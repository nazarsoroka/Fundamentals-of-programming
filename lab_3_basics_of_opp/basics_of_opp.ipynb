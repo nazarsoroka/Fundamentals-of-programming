{
 "cells": [
  {
   "cell_type": "markdown",
   "metadata": {},
   "source": [
    "# Це змінні які мають інформацію про моїх домашніх улюбленців"
   ]
  },
  {
   "cell_type": "code",
   "execution_count": 6,
   "metadata": {},
   "outputs": [
    {
     "name": "stdout",
     "output_type": "stream",
     "text": [
      "мої домашні улюбленці записані в <class 'list'> а їх імена в <class 'list'>\n",
      "На позиції 1 знаходиться мій домашній улюбленець Папуга з імям Арчі\n"
     ]
    }
   ],
   "source": [
    "L = [\"Хомяк\", \"Папуга\", \"Собака\"]\n",
    "Names = [\"Хомка\", \"Арчі\", \"Топа\"]\n",
    "\n",
    "print(f\"мої домашні улюбленці записані в {type(L)} а їх імена в {type(Names)}\")\n",
    "print(f\"На позиції 1 знаходиться мій домашній улюбленець {L[1]} з імям {Names[1]}\")"
   ]
  },
  {
   "cell_type": "markdown",
   "metadata": {},
   "source": [
    "# Працюю з об'єктами і класами для опису моїх домашніх улюбленців"
   ]
  },
  {
   "cell_type": "code",
   "execution_count": 7,
   "metadata": {},
   "outputs": [
    {
     "name": "stdout",
     "output_type": "stream",
     "text": [
      "Я маю домашнього улюбленця Папуга з імям Арчі\n",
      "Я маю домашнього улюбленця Собака з імям Топа\n",
      "<class '__main__.MyAnimals'>\n",
      "Мій перший домашній улюбленець Папуга має імя: Арчі та живе зі мною None\n",
      "Мій другий домашній улюбленець Собака має імя: Топа\n",
      "Домашній улюбленець Папуга живе в мене 2 рік\n",
      "Домашній улюбленець Собака живе в мене 7 рік\n"
     ]
    }
   ],
   "source": [
    "class MyAnimals:\n",
    "    def __init__(self, animal_type, name, age = None) -> None:\n",
    "        print(f\"Я маю домашнього улюбленця {animal_type} з імям {name}\")\n",
    "        self.animal_type = animal_type\n",
    "        self.name = name\n",
    "        self.age = age\n",
    "\n",
    "a1 = MyAnimals(\"Папуга\", \"Арчі\")\n",
    "a2 = MyAnimals(\"Собака\", \"Топа\")\n",
    "\n",
    "print(type(a1))\n",
    "\n",
    "print(f\"Мій перший домашній улюбленець {a1.animal_type} має імя: {a1.name} та живе зі мною {a1.age}\")\n",
    "\n",
    "print(f\"Мій другий домашній улюбленець {a2.animal_type} має імя: {a2.name}\")\n",
    "\n",
    "a1.age = 1 # Це я задав динамічний атрибут\n",
    "\n",
    "[a1.age, a2.age] = [2, 7] # Це я задав динамічний атрибут зразу для двох обєктів\n",
    "\n",
    "print(f\"Домашній улюбленець {a1.animal_type} живе в мене {a1.age} рік\")\n",
    "print(f\"Домашній улюбленець {a2.animal_type} живе в мене {a2.age} рік\")"
   ]
  },
  {
   "cell_type": "markdown",
   "metadata": {},
   "source": [
    "# Методи класу - що можна робити об'єкту"
   ]
  },
  {
   "cell_type": "code",
   "execution_count": 8,
   "metadata": {},
   "outputs": [
    {
     "name": "stdout",
     "output_type": "stream",
     "text": [
      "Я маю домашнього улюбленця Собака з імям Топа\n",
      "Собака каже Гав\n",
      "Собака  має стільки ж років скільки людина 20\n",
      "Я маю домашнього улюбленця Хомяк з імям Хомка\n",
      "Не знаю що говорить мій домашній улюбленець Хомяк \n",
      "Хомяк не знаю як перевести вік в 1\n"
     ]
    }
   ],
   "source": [
    "class MyAnimals:\n",
    "    def __init__(self, animal_type, name, age = None) -> None:\n",
    "        print(f\"Я маю домашнього улюбленця {animal_type} з імям {name}\")\n",
    "        self.animal_type = animal_type\n",
    "        self.name = name\n",
    "        self.age = age\n",
    "    \n",
    "    def speak(self):\n",
    "        if self.animal_type == \"Папуга\":\n",
    "            return f\"{self.animal_type} каже Привіт\"\n",
    "        elif self.animal_type == \"Собака\":\n",
    "            return f\"{self.animal_type} каже Гав\"\n",
    "        else:\n",
    "            return f\"Не знаю що говорить мій домашній улюбленець {self.animal_type} \"\n",
    "\n",
    "    def get_age_as_a_human(self):\n",
    "        ### Це видумано з голови\n",
    "        if self.animal_type == \"Папуга\":\n",
    "            return f\"{self.animal_type} має стільки ж років скільки людина {self.age * 3}\"\n",
    "        elif self.animal_type == \"Собака\":\n",
    "            return f\"{self.animal_type}  має стільки ж років скільки людина {self.age * 4}\"\n",
    "        else:\n",
    "            return f\"{self.animal_type} не знаю як перевести вік в {self.age}\"\n",
    "\n",
    "\n",
    "a1 = MyAnimals(\"Собака\", \"Топа\", 5)\n",
    "print(a1.speak())\n",
    "print(a1.get_age_as_a_human())\n",
    "\n",
    "a2 = MyAnimals(\"Хомяк\", \"Хомка\", 1)\n",
    "print(a2.speak())\n",
    "print(a2.get_age_as_a_human())"
   ]
  },
  {
   "cell_type": "markdown",
   "metadata": {},
   "source": [
    "## Додаю змінні класу"
   ]
  },
  {
   "cell_type": "code",
   "execution_count": 9,
   "metadata": {},
   "outputs": [
    {
     "name": "stdout",
     "output_type": "stream",
     "text": [
      "Зараз в мене є такі домашні улюбленці set() та їх кількість: 0\n",
      "Я маю домашнього улюбленця Собака з імям Топа\n",
      "Я маю домашнього улюбленця Папуга з імям Арчі\n",
      "Я маю домашнього улюбленця Папуга з імям Ляля\n",
      "Я маю домашнього улюбленця Хомяк з імям Хомка\n",
      "Зараз в мене є такі домашні улюбленці {'Папуга', 'Собака', 'Хомяк'} та їх кількість: 4\n"
     ]
    }
   ],
   "source": [
    "class MyAnimals:\n",
    "    total_animals = 0\n",
    "    my_animals = set()\n",
    "\n",
    "    def __init__(self, animal_type, name, age = None) -> None:\n",
    "        print(f\"Я маю домашнього улюбленця {animal_type} з імям {name}\")\n",
    "        self.animal_type = animal_type\n",
    "        self.name = name\n",
    "        self.age = age\n",
    "        MyAnimals.total_animals += 1\n",
    "        MyAnimals.my_animals.add(animal_type)\n",
    "    \n",
    "    def speak(self):\n",
    "        if self.animal_type == \"Папуга\":\n",
    "            return f\"{self.animal_type} каже Привіт\"\n",
    "        elif self.animal_type == \"Собака\":\n",
    "            return f\"{self.animal_type} каже Гав\"\n",
    "        else:\n",
    "            return f\"Не знаю що говорить мій домашній улюбленець {self.animal_type} \"\n",
    "\n",
    "    def get_age_as_a_human(self):\n",
    "        ### Це видумано з голови\n",
    "        if self.animal_type == \"Папуга\":\n",
    "            return f\"{self.animal_type} має стільки ж років скільки людина {self.age * 3}\"\n",
    "        elif self.animal_type == \"Собака\":\n",
    "            return f\"{self.animal_type}  має стільки ж років скільки людина {self.age * 4}\"\n",
    "        else:\n",
    "            return f\"{self.animal_type} не знаю як перевести вік в {self.age}\"\n",
    "\n",
    "print(f\"Зараз в мене є такі домашні улюбленці {MyAnimals.my_animals} та їх кількість: {MyAnimals.total_animals}\")\n",
    "MyAnimals(\"Собака\", \"Топа\", 4)\n",
    "MyAnimals(\"Папуга\", \"Арчі\", 1)\n",
    "MyAnimals(\"Папуга\", \"Ляля\", 2)\n",
    "MyAnimals(\"Хомяк\", \"Хомка\", 1)\n",
    "print(f\"Зараз в мене є такі домашні улюбленці {MyAnimals.my_animals} та їх кількість: {MyAnimals.total_animals}\")"
   ]
  },
  {
   "cell_type": "markdown",
   "metadata": {},
   "source": [
    "## Статичні методи та змінна self"
   ]
  },
  {
   "cell_type": "code",
   "execution_count": 10,
   "metadata": {},
   "outputs": [
    {
     "name": "stdout",
     "output_type": "stream",
     "text": [
      "Я маю Папуга, звати Арчі, йому 2 роки\n",
      "Я маю Папуга, звати Арчі, йому 4 роки\n",
      "Я викликаю статичний метод з об'єкта Я кличу домашніх улюбленців їсти або я можу викликати його з класу Я кличу домашніх улюбленців їсти\n",
      "Я викликаю метод з об'єкта Я кличу Папуга їсти, молодець Арчі або я можу викликати його з класу Я кличу Папуга їсти, молодець Арчі\n"
     ]
    }
   ],
   "source": [
    "class MyAnimals:\n",
    "    def __init__(self, animal_type, name, age = None) -> None:\n",
    "        self.animal_type = animal_type\n",
    "        self.name = name\n",
    "        self.age = age\n",
    "    \n",
    "    def add_year(self):\n",
    "        self.age += 2\n",
    "        return f\"Викликав метод для об'єкту {self.animal_type}\"\n",
    "    \n",
    "    @staticmethod\n",
    "    def call_pets():\n",
    "        return \"Я кличу домашніх улюбленців їсти\"\n",
    "    \n",
    "    def call_pet(self):\n",
    "        return f\"Я кличу {self.animal_type} їсти, молодець {self.name}\"\n",
    "\n",
    "\n",
    "a1 = MyAnimals(\"Папуга\", \"Арчі\", 2)\n",
    "print(f\"Я маю {a1.animal_type}, звати {a1.name}, йому {a1.age} роки\")\n",
    "a1.add_year()\n",
    "print(f\"Я маю {a1.animal_type}, звати {a1.name}, йому {a1.age} роки\")\n",
    "\n",
    "print(f\"Я викликаю статичний метод з об'єкта {a1.call_pets()} або я можу викликати його з класу {MyAnimals.call_pets()}\")\n",
    "\n",
    "print(f\"Я викликаю метод з об'єкта {a1.call_pet()} або я можу викликати його з класу {MyAnimals.call_pet(a1)}\")"
   ]
  },
  {
   "cell_type": "markdown",
   "metadata": {},
   "source": [
    "## Робота з property"
   ]
  },
  {
   "cell_type": "code",
   "execution_count": 12,
   "metadata": {},
   "outputs": [
    {
     "name": "stdout",
     "output_type": "stream",
     "text": [
      "Мій Папуга народився в 2020 році\n",
      "Мій Собака народився в 2017 році\n"
     ]
    }
   ],
   "source": [
    "from datetime import datetime\n",
    "class MyAnimals:\n",
    "    def __init__(self, animal_type, name, age = None) -> None:\n",
    "        self.animal_type = animal_type\n",
    "        self.name = name\n",
    "        self.age = age\n",
    "    \n",
    "    @property\n",
    "    def year_of_birth(self):\n",
    "        return datetime.today().year - self.age\n",
    "\n",
    "a1 = MyAnimals(\"Папуга\", \"Арчі\", 2)\n",
    "a2 = MyAnimals(\"Собака\", \"Топа\", 5)\n",
    "print(f\"Мій {a1.animal_type} народився в {a1.year_of_birth} році\")\n",
    "print(f\"Мій {a2.animal_type} народився в {a2.year_of_birth} році\")"
   ]
  },
  {
   "cell_type": "markdown",
   "metadata": {},
   "source": [
    "## Класові методи"
   ]
  },
  {
   "cell_type": "code",
   "execution_count": 13,
   "metadata": {},
   "outputs": [
    {
     "name": "stdout",
     "output_type": "stream",
     "text": [
      "Собака  Топа  5\n",
      " Топа\n",
      " Топа\n"
     ]
    }
   ],
   "source": [
    "class MyAnimals:\n",
    "    def __init__(self, animal_type, name, age = None) -> None:\n",
    "        self.animal_type = animal_type\n",
    "        self.name = name\n",
    "        self.age = age\n",
    "    \n",
    "    @classmethod\n",
    "    def obj_from_string(clc, csv_string):\n",
    "        animal_type, name, age = csv_string.split(\",\")\n",
    "        return clc(animal_type, name, age)\n",
    "\n",
    "a1 = MyAnimals(\"Собака\", \"Топа\", 5)\n",
    "\n",
    "## animal_type, name, age -> Собака, Топа, 5\n",
    "animal_type, name, age = \"Собака, Топа, 5\".split(\",\")\n",
    "print(animal_type, name, age)\n",
    "a2 = MyAnimals(animal_type, name, age)\n",
    "print(a2.name)\n",
    "\n",
    "a3 = MyAnimals.obj_from_string(\"Собака, Топа, 5\")\n",
    "print(a3.name)"
   ]
  },
  {
   "cell_type": "code",
   "execution_count": 14,
   "metadata": {},
   "outputs": [
    {
     "name": "stdout",
     "output_type": "stream",
     "text": [
      "Топа\n",
      "Топа\n"
     ]
    }
   ],
   "source": [
    "class MyAnimals:\n",
    "    def __init__(self, animal_type, name, age = None) -> None:\n",
    "        self._animal_type = animal_type\n",
    "        self._name = name\n",
    "\n",
    "    @property\n",
    "    def name(self):\n",
    "        return self._name\n",
    "        \n",
    "\n",
    "a1 = MyAnimals(\"Собака\", \"Топа\")\n",
    "print(a1.name)\n",
    "a1._name = \"Топа\"\n",
    "print(a1._name)"
   ]
  },
  {
   "cell_type": "code",
   "execution_count": 15,
   "metadata": {},
   "outputs": [
    {
     "name": "stdout",
     "output_type": "stream",
     "text": [
      "1 Топа\n",
      "2 Топа\n",
      "3 Топа\n"
     ]
    },
    {
     "ename": "AttributeError",
     "evalue": "'MyAnimals' object has no attribute '__meth'",
     "output_type": "error",
     "traceback": [
      "\u001b[1;31m---------------------------------------------------------------------------\u001b[0m",
      "\u001b[1;31mAttributeError\u001b[0m                            Traceback (most recent call last)",
      "Cell \u001b[1;32mIn [15], line 19\u001b[0m\n\u001b[0;32m     17\u001b[0m \u001b[39mprint\u001b[39m(\u001b[39m\"\u001b[39m\u001b[39m2\u001b[39m\u001b[39m\"\u001b[39m,a2\u001b[39m.\u001b[39mname)\n\u001b[0;32m     18\u001b[0m \u001b[39mprint\u001b[39m(\u001b[39m\"\u001b[39m\u001b[39m3\u001b[39m\u001b[39m\"\u001b[39m,a2\u001b[39m.\u001b[39m__name)\n\u001b[1;32m---> 19\u001b[0m a2\u001b[39m.\u001b[39;49m__meth()\n",
      "\u001b[1;31mAttributeError\u001b[0m: 'MyAnimals' object has no attribute '__meth'"
     ]
    }
   ],
   "source": [
    "class MyAnimals:\n",
    "    def __init__(self, animal_type, name, age = None) -> None:\n",
    "        self.__animal_type = animal_type\n",
    "        self.__name = name\n",
    "\n",
    "    @property\n",
    "    def name(self):\n",
    "        return self.__name\n",
    "    \n",
    "    def __meth(self):\n",
    "        pass\n",
    "        \n",
    "\n",
    "a2 = MyAnimals(\"Собака\", \"Топа\")\n",
    "print(\"1\",a2.name)\n",
    "a2.__name = \"Топа\"\n",
    "print(\"2\",a2.name)\n",
    "print(\"3\",a2.__name)\n",
    "a2.__meth()"
   ]
  },
  {
   "cell_type": "markdown",
   "metadata": {},
   "source": [
    "## Магічні методи"
   ]
  },
  {
   "cell_type": "code",
   "execution_count": 16,
   "metadata": {},
   "outputs": [
    {
     "name": "stdout",
     "output_type": "stream",
     "text": [
      "5.0\n",
      "True\n",
      "5.0\n",
      "1.0\n",
      "30.0 буде те саме що і 30.0\n",
      "1.5\n"
     ]
    }
   ],
   "source": [
    "a = 2\n",
    "b = 3.0\n",
    "c = a + b\n",
    "print(c)\n",
    "print(isinstance(c, float))\n",
    "\n",
    "\n",
    "c = b.__add__(a)\n",
    "print(c)\n",
    "c = b.__sub__(a)\n",
    "print(c)\n",
    "c = b.__mul__(10)\n",
    "print(f\"{c} буде те саме що і {b * 10}\")\n",
    "c = b.__truediv__(2)\n",
    "print(c)"
   ]
  },
  {
   "cell_type": "code",
   "execution_count": 17,
   "metadata": {},
   "outputs": [
    {
     "name": "stdout",
     "output_type": "stream",
     "text": [
      "Імя має 4 букв\n",
      "4\n",
      "Мій Арчі подружився з Топа\n",
      "True\n",
      "Мій Арчі налякав Топа\n",
      "False\n"
     ]
    },
    {
     "ename": "TypeError",
     "evalue": "unsupported operand type(s) for *: 'MyAnimals' and 'MyAnimals'",
     "output_type": "error",
     "traceback": [
      "\u001b[1;31m---------------------------------------------------------------------------\u001b[0m",
      "\u001b[1;31mTypeError\u001b[0m                                 Traceback (most recent call last)",
      "Cell \u001b[1;32mIn [17], line 34\u001b[0m\n\u001b[0;32m     30\u001b[0m \u001b[39mprint\u001b[39m(a \u001b[39m+\u001b[39m b)\n\u001b[0;32m     32\u001b[0m \u001b[39mprint\u001b[39m(a \u001b[39m-\u001b[39m b)\n\u001b[1;32m---> 34\u001b[0m a \u001b[39m*\u001b[39;49m b\n",
      "\u001b[1;31mTypeError\u001b[0m: unsupported operand type(s) for *: 'MyAnimals' and 'MyAnimals'"
     ]
    }
   ],
   "source": [
    "class MyAnimals:\n",
    "    def __init__(self, animal_type, name, age = None) -> None:\n",
    "        self.animal_type = animal_type\n",
    "        self.name = name\n",
    "        self.age = age\n",
    "    \n",
    "    def __len__(self):\n",
    "        print(f\"Імя має {len(self.name)} букв\")\n",
    "        return len(self.name)\n",
    "    \n",
    "    def __add__(self, add_var):\n",
    "        if isinstance(add_var, MyAnimals):\n",
    "            print(f\"Мій {self.name} подружився з {add_var.name}\")\n",
    "            return True\n",
    "    \n",
    "    def __sub__(self, add_var):\n",
    "        if isinstance(add_var, MyAnimals):\n",
    "            print(f\"Мій {self.name} налякав {add_var.name}\")\n",
    "            return False\n",
    "    \n",
    "    #def __mul__(self, add_var):\n",
    "    #    pass\n",
    "\n",
    "a = MyAnimals(\"Папуга\", \"Арчі\", 7)\n",
    "\n",
    "print(len(a))\n",
    "\n",
    "b = MyAnimals(\"Собака\", \"Топа\", 2)\n",
    "\n",
    "print(a + b)\n",
    "\n",
    "print(a - b)\n",
    "\n",
    "a * b"
   ]
  }
 ],
 "metadata": {
  "kernelspec": {
   "display_name": "Python 3.10.7 64-bit (microsoft store)",
   "language": "python",
   "name": "python3"
  },
  "language_info": {
   "codemirror_mode": {
    "name": "ipython",
    "version": 3
   },
   "file_extension": ".py",
   "mimetype": "text/x-python",
   "name": "python",
   "nbconvert_exporter": "python",
   "pygments_lexer": "ipython3",
   "version": "3.10.8"
  },
  "orig_nbformat": 4,
  "vscode": {
   "interpreter": {
    "hash": "854ad7b50770bedaf0cab730b1aaabb765566ea98036f134b639e260bede141e"
   }
  }
 },
 "nbformat": 4,
 "nbformat_minor": 2
}
