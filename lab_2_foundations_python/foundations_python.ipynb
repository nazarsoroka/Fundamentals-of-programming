{
 "cells": [
  {
   "cell_type": "markdown",
   "metadata": {},
   "source": [
    "# Працюю з базовими типами даних"
   ]
  },
  {
   "cell_type": "code",
   "execution_count": 1,
   "metadata": {},
   "outputs": [
    {
     "name": "stdout",
     "output_type": "stream",
     "text": [
      "Тип стрічка Супер\n"
     ]
    }
   ],
   "source": [
    "this_is_variable = \"Тип стрічка\"\n",
    "var_2 = \"Супер\"\n",
    "print (this_is_variable, var_2)\n"
   ]
  },
  {
   "cell_type": "code",
   "execution_count": 2,
   "metadata": {},
   "outputs": [
    {
     "name": "stdout",
     "output_type": "stream",
     "text": [
      "14.5\n"
     ]
    }
   ],
   "source": [
    "a=5\n",
    "b=9.5\n",
    "print (a+b)"
   ]
  },
  {
   "cell_type": "code",
   "execution_count": 59,
   "metadata": {},
   "outputs": [
    {
     "name": "stdout",
     "output_type": "stream",
     "text": [
      "я виводжу першу константу: 9 Далі буде текстова константа Супер\n",
      "я виводжу константу: 9 Далі буде текстова константа Супер\n",
      "я виводжу константу: 9 Далі буде текстова константа Супер\n",
      "я виводжу константа: 9 Далі буде текстова константа Супер\n"
     ]
    }
   ],
   "source": [
    "print(\"я виводжу першу константу:\", a,\"Далі буде текстова константа\", var_2)\n",
    "\n",
    "print(\"я виводжу константу: \" + str(a) + \" Далі буде текстова константа \" + var_2)\n",
    "\n",
    "print(\"я виводжу константу: {0} Далі буде текстова константа {1}\".format(a, var_2))\n",
    "\n",
    "print(f\"я виводжу константа: {a} Далі буде текстова константа {var_2}\")"
   ]
  },
  {
   "cell_type": "code",
   "execution_count": 58,
   "metadata": {},
   "outputs": [
    {
     "name": "stdout",
     "output_type": "stream",
     "text": [
      "Виводжу перший елемент list: 1\n",
      "Замінюємо елемент None\n",
      "Заміна\n",
      "<class 'list'>\n",
      "Видаляємо елементи set 1\n",
      "Елементи після видалення {2, 'asd', 4}\n"
     ]
    }
   ],
   "source": [
    "ll = [\"Стрічка\", 1, 3, [1, 8], 2]\n",
    "print(f\"Виводжу перший елемент list: {ll[1]}\")\n",
    "print(f\"Замінюємо елемент {ll.insert(1, 'Заміна')}\")\n",
    "print(ll[1])\n",
    "\n",
    "print(type(ll))\n",
    "\n",
    "ss = {\"asd\", 1, 4, 1, 2, \"asd\"}\n",
    "print(f\"Видаляємо елементи set {ss.pop()}\")\n",
    "print(f\"Елементи після видалення {ss}\")"
   ]
  },
  {
   "cell_type": "markdown",
   "metadata": {},
   "source": [
    "# Познайомився з словниками"
   ]
  },
  {
   "cell_type": "code",
   "execution_count": 56,
   "metadata": {},
   "outputs": [
    {
     "name": "stdout",
     "output_type": "stream",
     "text": [
      "Це є <class 'dict'> і його елементи {'a': 'Nazar', 9: 'Roman'}\n",
      "Беремо елемет << a >> Nazar та елемент << 9 >> Roman\n"
     ]
    }
   ],
   "source": [
    "dd = {\"a\": \"Nazar\", a: \"Roman\"}\n",
    "print(f\"Це є {type(dd)} і його елементи {dd}\")\n",
    "print(f\"Беремо елемет << a >> {dd['a']} та елемент << {a} >> {dd[a]}\")\n"
   ]
  },
  {
   "cell_type": "code",
   "execution_count": 54,
   "metadata": {},
   "outputs": [
    {
     "name": "stdout",
     "output_type": "stream",
     "text": [
      "10.5 є рівним 10.5\n",
      "Пробую функію type <class 'int'>\n",
      "Створюємо сет за допомогою функції {3}\n",
      "Пробую константу True яка може бути схожою на змінну 3\n"
     ]
    },
    {
     "data": {
      "text/plain": [
       "3072740819440"
      ]
     },
     "execution_count": 54,
     "metadata": {},
     "output_type": "execute_result"
    }
   ],
   "source": [
    "print(abs(-10.5), f\"є рівним {abs(10.5)}\")\n",
    "\n",
    "print(f\"Пробую функію type {type(a)}\")\n",
    "print(f\"Створюємо сет за допомогою функції {set([3])}\")\n",
    "TrueS = 3\n",
    "print(f\"Пробую константу {True} яка може бути схожою на змінну {TrueS}\")\n",
    "\n",
    "id(a)"
   ]
  },
  {
   "cell_type": "markdown",
   "metadata": {},
   "source": [
    "# Працюю з циклами"
   ]
  },
  {
   "cell_type": "markdown",
   "metadata": {},
   "source": [
    "• while\n",
    "\n",
    "• for"
   ]
  },
  {
   "cell_type": "code",
   "execution_count": 20,
   "metadata": {},
   "outputs": [
    {
     "name": "stdout",
     "output_type": "stream",
     "text": [
      "Ми виконуємо ітерацію 0\n",
      "Ми виконуємо ітерацію 1\n",
      "Ми виконуємо ітерацію 2\n",
      "Ми виконуємо ітерацію 3\n",
      "Ми виконуємо ітерацію 4\n",
      "Ми виконуємо ітерацію 5\n",
      "Ми виконуємо ітерацію 6\n",
      "Ми виконуємо ітерацію 7\n",
      "Ми виконуємо ітерацію 8\n",
      "Ми виконуємо ітерацію 9\n",
      "Ми виконуємо ітерацію 10\n",
      "Закінчуємо цикл\n",
      "Ми виконуємо ітерацію 0\n",
      "Ми виконуємо ітерацію 1\n",
      "Ми виконуємо ітерацію 2\n",
      "Ми виконуємо ітерацію 3\n",
      "Ми виконуємо ітерацію 4\n",
      "Ми виконуємо ітерацію 5\n",
      "Ми виконуємо ітерацію 6\n",
      "Ми виконуємо ітерацію 7\n",
      "Ми виконуємо ітерацію 8\n",
      "Ми виконуємо ітерацію 9\n",
      "Ми виконуємо ітерацію 10\n",
      "Закінчуємо цикл на значенні\n"
     ]
    }
   ],
   "source": [
    " i = 0\n",
    "while True:\n",
    "    print(f\"Ми виконуємо ітерацію {i}\")\n",
    "    i += 1\n",
    "    if i > 10:\n",
    "        print(\"Закінчуємо цикл\")\n",
    "        break\n",
    "\n",
    "i = 0\n",
    "while i <= 10:\n",
    "    print(f\"Ми виконуємо ітерацію {i}\")\n",
    "    i += 1\n",
    "else:\n",
    "    print(\"Закінчуємо цикл на значенні\",)\n",
    "   "
   ]
  },
  {
   "cell_type": "code",
   "execution_count": 21,
   "metadata": {},
   "outputs": [
    {
     "name": "stdout",
     "output_type": "stream",
     "text": [
      "Ми виконуємо ітерацію 1\n",
      "Ми виконуємо ітерацію 2\n",
      "Ми виконуємо ітерацію 3\n",
      "Ми виконуємо ітерацію 4\n",
      "Значення 5 не буде виведено\n",
      "Ми виконуємо ітерацію 6\n",
      "Ми виконуємо ітерацію 7\n",
      "Ми виконуємо ітерацію 8\n",
      "Ми виконуємо ітерацію 9\n",
      "Ми виконуємо ітерацію 10\n",
      "Ми виконуємо ітерацію 11\n"
     ]
    }
   ],
   "source": [
    "i = 0\n",
    "while i <= 10:\n",
    "    i += 1\n",
    "    if i == 5:\n",
    "        print(f\"Значення {i} не буде виведено\")\n",
    "        continue\n",
    "    print(f\"Ми виконуємо ітерацію {i}\")\n"
   ]
  },
  {
   "cell_type": "code",
   "execution_count": 22,
   "metadata": {},
   "outputs": [
    {
     "name": "stdout",
     "output_type": "stream",
     "text": [
      "На нуль ділити не можна!\n",
      "Беремо елемент 0 який знаходиться на позиції 0\n",
      "50.0\n",
      "Беремо елемент 2 який знаходиться на позиції 1\n",
      "25.0\n",
      "Беремо елемент 4 який знаходиться на позиції 2\n",
      "16.666666666666668\n",
      "Беремо елемент 6 який знаходиться на позиції 3\n",
      "12.5\n",
      "Беремо елемент 8 який знаходиться на позиції 4\n",
      "10.0\n",
      "Беремо елемент 10 який знаходиться на позиції 5\n"
     ]
    }
   ],
   "source": [
    "li = [0, 2, 4, 6, 8, 10]\n",
    "hh = \"На нуль ділити не можна!\"\n",
    "for i in li:\n",
    "    print(100/i if i != 0 else hh)\n",
    "    print(f\"Беремо елемент {i} який знаходиться на позиції {li.index(i)}\")"
   ]
  },
  {
   "cell_type": "code",
   "execution_count": 27,
   "metadata": {},
   "outputs": [
    {
     "name": "stdout",
     "output_type": "stream",
     "text": [
      "\n",
      "X~\n",
      "X~X~\n",
      "X~X~X~\n",
      "X~X~X~X~\n",
      "X~X~X~X~X~\n",
      "X~X~X~X~X~X~\n",
      "X~X~X~X~X~X~X~\n",
      "X~X~X~X~X~X~X~X~\n",
      "X~X~X~X~X~X~X~X~X~\n",
      "~X~X~X~X~X~X~X~X~X\n",
      "~X~X~X~X~X~X~X~X\n",
      "~X~X~X~X~X~X~X\n",
      "~X~X~X~X~X~X\n",
      "~X~X~X~X~X\n",
      "~X~X~X~X\n",
      "~X~X~X\n",
      "~X~X\n",
      "~X\n"
     ]
    }
   ],
   "source": [
    "for a in range(10):\n",
    "    print(a * \"X~\")\n",
    "\n",
    "for b in range(a):\n",
    "    print((a-b) * \"~X\")\n",
    "    "
   ]
  },
  {
   "cell_type": "markdown",
   "metadata": {},
   "source": [
    "# Працюю з розгалуженнями"
   ]
  },
  {
   "cell_type": "code",
   "execution_count": 36,
   "metadata": {},
   "outputs": [
    {
     "name": "stdout",
     "output_type": "stream",
     "text": [
      ">> Ми на ітерації  0\n",
      "Ніяка умова не виконалась\n",
      ">> Завершення ітерації\n",
      ">> Ми на ітерації  1\n",
      "Ніяка умова не виконалась\n",
      ">> Завершення ітерації\n",
      ">> Ми на ітерації  2\n",
      "Ми зайшли в перше розгалуження\n",
      ">> Завершення ітерації\n",
      ">> Ми на ітерації  3\n",
      "Ніяка умова не виконалась\n",
      ">> Завершення ітерації\n",
      ">> Ми на ітерації  4\n",
      "Ніяка умова не виконалась\n",
      ">> Завершення ітерації\n",
      ">> Ми на ітерації  5\n",
      "Ми зайшли в друге розгалуження\n",
      ">> Завершення ітерації\n",
      ">> Ми на ітерації  6\n",
      "Ніяка умова не виконалась\n",
      ">> Завершення ітерації\n",
      ">> Ми на ітерації  7\n",
      "Ніяка умова не виконалась\n",
      ">> Завершення ітерації\n"
     ]
    }
   ],
   "source": [
    "for A in range(8):\n",
    "    print(\">> Ми на ітерації \", A)\n",
    "    if A == 2:\n",
    "        print(\"Ми зайшли в перше розгалуження\")\n",
    "    elif A == 5:\n",
    "        print(\"Ми зайшли в друге розгалуження\")\n",
    "    else:\n",
    "        print(\"Ніяка умова не виконалась\")\n",
    "    print(\">> Завершення ітерації\")"
   ]
  },
  {
   "cell_type": "code",
   "execution_count": 37,
   "metadata": {},
   "outputs": [
    {
     "name": "stdout",
     "output_type": "stream",
     "text": [
      "Значить А=True\n",
      "Значить А=True\n"
     ]
    }
   ],
   "source": [
    "A = True\n",
    "\n",
    "if A:\n",
    "    print(\"Значить А=True\")\n",
    "else:\n",
    "    print(\"Значить А=False\")\n",
    "\n",
    "print(\"Значить А=True\" if A else \"Значить А=False\")"
   ]
  },
  {
   "cell_type": "code",
   "execution_count": 38,
   "metadata": {},
   "outputs": [
    {
     "name": "stdout",
     "output_type": "stream",
     "text": [
      "Метод 1: 20.0\n",
      "Метод 1: 10.0\n",
      "Метод 1: 6.666666666666667\n",
      "Метод 1: 5.0\n",
      "Метод 1: 4.0\n",
      "Метод 1: 3.3333333333333335\n",
      "Метод 1: 2.857142857142857\n",
      "Метод 1: 2.5\n",
      "Метод 1: 2.2222222222222223\n",
      "['Метод 2: 20.0', 'Метод 2: 10.0', 'Метод 2: 6.666666666666667', 'Метод 2: 5.0', 'Метод 2: 4.0', 'Метод 2: 3.3333333333333335', 'Метод 2: 2.857142857142857', 'Метод 2: 2.5', 'Метод 2: 2.2222222222222223']\n"
     ]
    }
   ],
   "source": [
    "for x in range(1, 10):\n",
    "    print(f\"Метод 1: {20 / x}\")\n",
    "\n",
    "print(list(f\"Метод 2: {20 / x}\" for x in range(1, 10)))"
   ]
  },
  {
   "cell_type": "markdown",
   "metadata": {},
   "source": [
    "# Працюю над помилками"
   ]
  },
  {
   "cell_type": "code",
   "execution_count": 44,
   "metadata": {},
   "outputs": [
    {
     "name": "stdout",
     "output_type": "stream",
     "text": [
      "ss3\n"
     ]
    }
   ],
   "source": [
    "A = \"ss\" + str(3) # ми перевели цифру в стрічку\n",
    "print(A)"
   ]
  },
  {
   "cell_type": "code",
   "execution_count": 45,
   "metadata": {},
   "outputs": [
    {
     "name": "stdout",
     "output_type": "stream",
     "text": [
      "0\n",
      "У нас сталась помилка >> division by zero\n",
      "А вот воно що!\n"
     ]
    }
   ],
   "source": [
    "from random import choice\n",
    "from re import T\n",
    "\n",
    "A = choice(range(15))\n",
    "print(A)\n",
    "\n",
    "try:\n",
    "    print(\"Що буде якщо\", 20/A, \"?\")\n",
    "    raise TypeError(\"Це наша помилка, яка буде завжди\")\n",
    "except (ZeroDivisionError, TypeError) as e:\n",
    "    print(\"У нас сталась помилка >>\", e)\n",
    "    #print(\"ми не можемо ділити на \", A)\n",
    "#except TypeError as e:\n",
    "#    print(\"Тут сталась наша момилка >>\", e)\n",
    "finally:\n",
    "    print(\"А вот воно що!\")"
   ]
  },
  {
   "cell_type": "markdown",
   "metadata": {},
   "source": [
    "# Працюю з контекст-менеджерами"
   ]
  },
  {
   "cell_type": "code",
   "execution_count": 51,
   "metadata": {},
   "outputs": [
    {
     "ename": "FileNotFoundError",
     "evalue": "[Errno 2] No such file or directory: 'text.txt'",
     "output_type": "error",
     "traceback": [
      "\u001b[1;31m---------------------------------------------------------------------------\u001b[0m",
      "\u001b[1;31mFileNotFoundError\u001b[0m                         Traceback (most recent call last)",
      "Cell \u001b[1;32mIn [51], line 1\u001b[0m\n\u001b[1;32m----> 1\u001b[0m f \u001b[38;5;241m=\u001b[39m \u001b[38;5;28;43mopen\u001b[39;49m\u001b[43m(\u001b[49m\u001b[38;5;124;43m\"\u001b[39;49m\u001b[38;5;124;43mtext.txt\u001b[39;49m\u001b[38;5;124;43m\"\u001b[39;49m\u001b[43m,\u001b[49m\u001b[43m \u001b[49m\u001b[38;5;124;43m\"\u001b[39;49m\u001b[38;5;124;43mr\u001b[39;49m\u001b[38;5;124;43m\"\u001b[39;49m\u001b[43m)\u001b[49m\n\u001b[0;32m      2\u001b[0m \u001b[38;5;28mprint\u001b[39m(f\u001b[38;5;241m.\u001b[39mblackline())\n\u001b[0;32m      3\u001b[0m f\u001b[38;5;241m.\u001b[39mclose()\n",
      "\u001b[1;31mFileNotFoundError\u001b[0m: [Errno 2] No such file or directory: 'text.txt'"
     ]
    }
   ],
   "source": [
    "f = open(\"text.txt\", \"r\")\n",
    "print(f.blackline())\n",
    "f.close()\n",
    "\n",
    "with open(\"text.txt\", \"r\") as f:\n",
    "    print(f.blackline())\n",
    "\n",
    "print(f.blackline())"
   ]
  },
  {
   "cell_type": "markdown",
   "metadata": {},
   "source": [
    "# Працюю з лямбдами Python"
   ]
  },
  {
   "cell_type": "code",
   "execution_count": 60,
   "metadata": {},
   "outputs": [
    {
     "name": "stdout",
     "output_type": "stream",
     "text": [
      "Це є функція >> <function my_name at 0x000002CB73A896C0>\n",
      "Я викликаю функцію >> Моє імя Nazar та прізвище N\n",
      "<function my_name at 0x000002CB73A896C0> Моє імя Nazar та прізвище N\n",
      "Це просто функція: <function <lambda> at 0x000002CB73A89D80>\n",
      "Це її виклик: Моє імя Nazar та прізвище N\n"
     ]
    }
   ],
   "source": [
    "def my_name(first, last):\n",
    "    return f\"Моє імя {first} та прізвище {last}\"\n",
    "\n",
    "print(\"Це є функція >>\", my_name)\n",
    "print(\"Я викликаю функцію >>\", my_name(\"Nazar\", \"N\"))\n",
    "\n",
    "this_is_functio = my_name\n",
    "\n",
    "print(this_is_functio, this_is_functio('Nazar', 'N'))\n",
    "\n",
    "this_is_lambda = lambda first, last: f'Моє імя {first} та прізвище {last}'\n",
    "print(\"Це просто функція:\", this_is_lambda)\n",
    "print(\"Це її виклик:\", this_is_lambda('Nazar', 'N'))"
   ]
  },
  {
   "cell_type": "code",
   "execution_count": 61,
   "metadata": {},
   "outputs": [],
   "source": [
    "this_is_lambda = \"Lambda\""
   ]
  }
 ],
 "metadata": {
  "kernelspec": {
   "display_name": "Python 3.10.7 64-bit (microsoft store)",
   "language": "python",
   "name": "python3"
  },
  "language_info": {
   "codemirror_mode": {
    "name": "ipython",
    "version": 3
   },
   "file_extension": ".py",
   "mimetype": "text/x-python",
   "name": "python",
   "nbconvert_exporter": "python",
   "pygments_lexer": "ipython3",
   "version": "3.10.8"
  },
  "orig_nbformat": 4,
  "vscode": {
   "interpreter": {
    "hash": "854ad7b50770bedaf0cab730b1aaabb765566ea98036f134b639e260bede141e"
   }
  }
 },
 "nbformat": 4,
 "nbformat_minor": 2
}
